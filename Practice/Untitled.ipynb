{
 "cells": [
  {
   "cell_type": "code",
   "execution_count": 1,
   "metadata": {},
   "outputs": [
    {
     "ename": "ModuleNotFoundError",
     "evalue": "No module named 'scikit'",
     "output_type": "error",
     "traceback": [
      "\u001b[1;31m---------------------------------------------------------------------------\u001b[0m",
      "\u001b[1;31mModuleNotFoundError\u001b[0m                       Traceback (most recent call last)",
      "\u001b[1;32m<ipython-input-1-bd220ad29244>\u001b[0m in \u001b[0;36m<module>\u001b[1;34m()\u001b[0m\n\u001b[1;32m----> 1\u001b[1;33m \u001b[1;32mimport\u001b[0m \u001b[0mscikit\u001b[0m\u001b[1;33m\u001b[0m\u001b[0m\n\u001b[0m",
      "\u001b[1;31mModuleNotFoundError\u001b[0m: No module named 'scikit'"
     ]
    }
   ],
   "source": [
    "import scikit\n"
   ]
  },
  {
   "cell_type": "code",
   "execution_count": 2,
   "metadata": {},
   "outputs": [],
   "source": [
    "import numpy as np\n"
   ]
  },
  {
   "cell_type": "code",
   "execution_count": 3,
   "metadata": {},
   "outputs": [],
   "source": [
    "del np"
   ]
  },
  {
   "cell_type": "code",
   "execution_count": 4,
   "metadata": {},
   "outputs": [],
   "source": [
    "# Starting here"
   ]
  },
  {
   "cell_type": "code",
   "execution_count": 5,
   "metadata": {},
   "outputs": [],
   "source": [
    "#"
   ]
  },
  {
   "cell_type": "code",
   "execution_count": 6,
   "metadata": {},
   "outputs": [],
   "source": [
    "from sklearn.linear_model import LinearRegression"
   ]
  },
  {
   "cell_type": "code",
   "execution_count": 7,
   "metadata": {},
   "outputs": [],
   "source": [
    "import numpy as np\n",
    "from matplotlib import pyplot as plt"
   ]
  },
  {
   "cell_type": "code",
   "execution_count": 9,
   "metadata": {},
   "outputs": [],
   "source": [
    "x = 10*np.random.random(100)\n",
    "y = 3*x+np.random.random(100)\n"
   ]
  },
  {
   "cell_type": "code",
   "execution_count": 10,
   "metadata": {},
   "outputs": [
    {
     "data": {
      "text/plain": [
       "array([30.52250545, 18.22847986, 14.27394512, 20.25130902, 17.61763874,\n",
       "       18.50514523,  2.29953124, 12.07708263,  5.39450277, 21.28530585,\n",
       "       20.13861466, 14.78416106, 18.99622103, 28.81376291, 19.03181152,\n",
       "       19.30822706, 19.75035733, 10.41135847, 24.64129588,  2.1416233 ,\n",
       "       13.44004463, 27.36170558, 29.42047078,  9.27718772, 18.68153225,\n",
       "        7.25719296, 17.87781939, 29.01664005, 27.1622878 ,  4.14930458,\n",
       "        1.06331293,  8.91476161, 14.64027954, 29.44236274, 11.12365145,\n",
       "       14.81123314,  7.05936768, 21.88054897, 12.83229722, 26.25403573,\n",
       "       10.55812628, 13.56885636, 10.85438158, 27.90782043, 26.83698885,\n",
       "       24.11112669, 13.62862826,  6.96345125, 29.34251874, 25.34479131,\n",
       "        4.22843316, 23.9406275 ,  2.19577345, 20.54538919,  6.44602943,\n",
       "       28.38794058, 23.00849645,  8.20091646,  4.76766694, 17.60720713,\n",
       "        4.12040374,  8.21226063, 26.90991912,  6.2120241 , 17.92001928,\n",
       "       13.76011097,  3.52747781, 24.87571823, 29.66062563,  6.23209846,\n",
       "       30.48132117, 19.48568075, 15.98907606,  2.1125443 , 19.0308138 ,\n",
       "       24.6659737 , 11.378084  ,  7.24021155, 27.35686439, 20.90139615,\n",
       "       11.31658729, 27.70478412, 30.26544661,  6.73650741, 12.25299729,\n",
       "        4.57539557,  7.41784634, 19.53118136,  2.62462822, 27.54703409,\n",
       "       24.06586837,  0.47236842,  1.38973818, 12.1381226 ,  2.44999565,\n",
       "       10.21339815,  7.45556987, 26.06075442,  4.18931303, 15.97997603])"
      ]
     },
     "execution_count": 10,
     "metadata": {},
     "output_type": "execute_result"
    }
   ],
   "source": [
    "y"
   ]
  },
  {
   "cell_type": "code",
   "execution_count": 11,
   "metadata": {},
   "outputs": [
    {
     "data": {
      "text/plain": [
       "[<matplotlib.lines.Line2D at 0x96760f0>]"
      ]
     },
     "execution_count": 11,
     "metadata": {},
     "output_type": "execute_result"
    },
    {
     "data": {
      "image/png": "[encoded data removed]",
      "text/plain": [
       "<Figure size 432x288 with 1 Axes>"
      ]
     },
     "metadata": {},
     "output_type": "display_data"
    }
   ],
   "source": [
    "plt.plot(x,y)"
   ]
  },
  {
   "cell_type": "code",
   "execution_count": 12,
   "metadata": {},
   "outputs": [
    {
     "data": {
      "text/plain": [
       "<matplotlib.collections.PathCollection at 0x9709208>"
      ]
     },
     "execution_count": 12,
     "metadata": {},
     "output_type": "execute_result"
    },
    {
     "data": {
      "image/png": "[encoded data removed]",
      "text/plain": [
       "<Figure size 432x288 with 1 Axes>"
      ]
     },
     "metadata": {},
     "output_type": "display_data"
    }
   ],
   "source": [
    "plt.scatter(x,y)"
   ]
  },
  {
   "cell_type": "code",
   "execution_count": 13,
   "metadata": {},
   "outputs": [],
   "source": [
    "model = LinearRegression(fit_intercept=True)"
   ]
  },
  {
   "cell_type": "code",
   "execution_count": 14,
   "metadata": {},
   "outputs": [
    {
     "data": {
      "text/plain": [
       "LinearRegression(copy_X=True, fit_intercept=True, n_jobs=1, normalize=False)"
      ]
     },
     "execution_count": 14,
     "metadata": {},
     "output_type": "execute_result"
    }
   ],
   "source": [
    "model"
   ]
  },
  {
   "cell_type": "code",
   "execution_count": 16,
   "metadata": {},
   "outputs": [
    {
     "data": {
      "text/plain": [
       "(100,)"
      ]
     },
     "execution_count": 16,
     "metadata": {},
     "output_type": "execute_result"
    }
   ],
   "source": [
    "y.shape"
   ]
  },
  {
   "cell_type": "code",
   "execution_count": 17,
   "metadata": {},
   "outputs": [
    {
     "data": {
      "text/plain": [
       "(100,)"
      ]
     },
     "execution_count": 17,
     "metadata": {},
     "output_type": "execute_result"
    }
   ],
   "source": [
    "x.shape"
   ]
  },
  {
   "cell_type": "code",
   "execution_count": 18,
   "metadata": {},
   "outputs": [
    {
     "data": {
      "text/plain": [
       "array([[30.52250545, 18.22847986, 14.27394512, 20.25130902, 17.61763874,\n",
       "        18.50514523,  2.29953124, 12.07708263,  5.39450277, 21.28530585,\n",
       "        20.13861466, 14.78416106, 18.99622103, 28.81376291, 19.03181152,\n",
       "        19.30822706, 19.75035733, 10.41135847, 24.64129588,  2.1416233 ,\n",
       "        13.44004463, 27.36170558, 29.42047078,  9.27718772, 18.68153225,\n",
       "         7.25719296, 17.87781939, 29.01664005, 27.1622878 ,  4.14930458,\n",
       "         1.06331293,  8.91476161, 14.64027954, 29.44236274, 11.12365145,\n",
       "        14.81123314,  7.05936768, 21.88054897, 12.83229722, 26.25403573,\n",
       "        10.55812628, 13.56885636, 10.85438158, 27.90782043, 26.83698885,\n",
       "        24.11112669, 13.62862826,  6.96345125, 29.34251874, 25.34479131,\n",
       "         4.22843316, 23.9406275 ,  2.19577345, 20.54538919,  6.44602943,\n",
       "        28.38794058, 23.00849645,  8.20091646,  4.76766694, 17.60720713,\n",
       "         4.12040374,  8.21226063, 26.90991912,  6.2120241 , 17.92001928,\n",
       "        13.76011097,  3.52747781, 24.87571823, 29.66062563,  6.23209846,\n",
       "        30.48132117, 19.48568075, 15.98907606,  2.1125443 , 19.0308138 ,\n",
       "        24.6659737 , 11.378084  ,  7.24021155, 27.35686439, 20.90139615,\n",
       "        11.31658729, 27.70478412, 30.26544661,  6.73650741, 12.25299729,\n",
       "         4.57539557,  7.41784634, 19.53118136,  2.62462822, 27.54703409,\n",
       "        24.06586837,  0.47236842,  1.38973818, 12.1381226 ,  2.44999565,\n",
       "        10.21339815,  7.45556987, 26.06075442,  4.18931303, 15.97997603]])"
      ]
     },
     "execution_count": 18,
     "metadata": {},
     "output_type": "execute_result"
    }
   ],
   "source": [
    "y.reshape(1,-1)"
   ]
  },
  {
   "cell_type": "code",
   "execution_count": 19,
   "metadata": {},
   "outputs": [
    {
     "data": {
      "text/plain": [
       "(100,)"
      ]
     },
     "execution_count": 19,
     "metadata": {},
     "output_type": "execute_result"
    }
   ],
   "source": [
    "y.shape"
   ]
  },
  {
   "cell_type": "code",
   "execution_count": 20,
   "metadata": {},
   "outputs": [],
   "source": [
    "y = y.reshape(1,-1)"
   ]
  },
  {
   "cell_type": "code",
   "execution_count": 21,
   "metadata": {},
   "outputs": [
    {
     "ename": "ValueError",
     "evalue": "Expected 2D array, got 1D array instead:\narray=[9.95209271 6.03026546 4.50807604 6.47013246 5.67492342 5.88919709\n 0.51871717 3.98083318 1.71594291 6.79940465 6.49293829 4.76556196\n 6.21668725 9.40033589 6.30755882 6.110838   6.30755868 3.46355476\n 7.91190556 0.5246153  4.4017147  8.97238203 9.69429485 2.789956\n 6.15055697 2.09038957 5.70985205 9.4337167  8.79859588 1.34082353\n 0.2154501  2.8335883  4.76180381 9.48464094 3.64008979 4.80721914\n 2.12106073 7.10976425 4.17872509 8.69032763 3.26579699 4.47867686\n 3.5049652  8.97454729 8.92854437 7.81365985 4.53430079 2.1358364\n 9.74087965 8.43651673 1.24228013 7.73442191 0.54292399 6.63566651\n 1.91420639 9.22789441 7.58769433 2.57543659 1.32477281 5.63252846\n 1.36348518 2.4285697  8.66028247 1.89155388 5.95076123 4.28342506\n 0.94678341 8.27260797 9.56289561 1.98950591 9.96558089 6.27255765\n 4.99681115 0.63403651 6.30693304 8.0423662  3.61823372 2.33636507\n 9.05069689 6.91001406 3.72653475 9.15614538 9.86822005 2.01379767\n 3.89247614 1.25001373 2.3898169  6.23743865 0.77053894 9.05415504\n 7.74896694 0.10043743 0.14218314 3.9295094  0.60005637 3.38475149\n 2.45857853 8.66140331 1.35699732 5.11677304].\nReshape your data either using array.reshape(-1, 1) if your data has a single feature or array.reshape(1, -1) if it contains a single sample.",
     "output_type": "error",
     "traceback": [
      "\u001b[1;31m---------------------------------------------------------------------------\u001b[0m",
      "\u001b[1;31mValueError\u001b[0m                                Traceback (most recent call last)",
      "\u001b[1;32m<ipython-input-21-cecb4634e72d>\u001b[0m in \u001b[0;36m<module>\u001b[1;34m()\u001b[0m\n\u001b[1;32m----> 1\u001b[1;33m \u001b[0mmodel\u001b[0m\u001b[1;33m.\u001b[0m\u001b[0mfit\u001b[0m\u001b[1;33m(\u001b[0m\u001b[0mx\u001b[0m\u001b[1;33m,\u001b[0m\u001b[0my\u001b[0m\u001b[1;33m)\u001b[0m\u001b[1;33m\u001b[0m\u001b[0m\n\u001b[0m",
      "\u001b[1;32mC:\\ProgramData\\Anaconda3\\lib\\site-packages\\sklearn\\linear_model\\base.py\u001b[0m in \u001b[0;36mfit\u001b[1;34m(self, X, y, sample_weight)\u001b[0m\n\u001b[0;32m    480\u001b[0m         \u001b[0mn_jobs_\u001b[0m \u001b[1;33m=\u001b[0m \u001b[0mself\u001b[0m\u001b[1;33m.\u001b[0m\u001b[0mn_jobs\u001b[0m\u001b[1;33m\u001b[0m\u001b[0m\n\u001b[0;32m    481\u001b[0m         X, y = check_X_y(X, y, accept_sparse=['csr', 'csc', 'coo'],\n\u001b[1;32m--> 482\u001b[1;33m                          y_numeric=True, multi_output=True)\n\u001b[0m\u001b[0;32m    483\u001b[0m \u001b[1;33m\u001b[0m\u001b[0m\n\u001b[0;32m    484\u001b[0m         \u001b[1;32mif\u001b[0m \u001b[0msample_weight\u001b[0m \u001b[1;32mis\u001b[0m \u001b[1;32mnot\u001b[0m \u001b[1;32mNone\u001b[0m \u001b[1;32mand\u001b[0m \u001b[0mnp\u001b[0m\u001b[1;33m.\u001b[0m\u001b[0matleast_1d\u001b[0m\u001b[1;33m(\u001b[0m\u001b[0msample_weight\u001b[0m\u001b[1;33m)\u001b[0m\u001b[1;33m.\u001b[0m\u001b[0mndim\u001b[0m \u001b[1;33m>\u001b[0m \u001b[1;36m1\u001b[0m\u001b[1;33m:\u001b[0m\u001b[1;33m\u001b[0m\u001b[0m\n",
      "\u001b[1;32mC:\\ProgramData\\Anaconda3\\lib\\site-packages\\sklearn\\utils\\validation.py\u001b[0m in \u001b[0;36mcheck_X_y\u001b[1;34m(X, y, accept_sparse, dtype, order, copy, force_all_finite, ensure_2d, allow_nd, multi_output, ensure_min_samples, ensure_min_features, y_numeric, warn_on_dtype, estimator)\u001b[0m\n\u001b[0;32m    571\u001b[0m     X = check_array(X, accept_sparse, dtype, order, copy, force_all_finite,\n\u001b[0;32m    572\u001b[0m                     \u001b[0mensure_2d\u001b[0m\u001b[1;33m,\u001b[0m \u001b[0mallow_nd\u001b[0m\u001b[1;33m,\u001b[0m \u001b[0mensure_min_samples\u001b[0m\u001b[1;33m,\u001b[0m\u001b[1;33m\u001b[0m\u001b[0m\n\u001b[1;32m--> 573\u001b[1;33m                     ensure_min_features, warn_on_dtype, estimator)\n\u001b[0m\u001b[0;32m    574\u001b[0m     \u001b[1;32mif\u001b[0m \u001b[0mmulti_output\u001b[0m\u001b[1;33m:\u001b[0m\u001b[1;33m\u001b[0m\u001b[0m\n\u001b[0;32m    575\u001b[0m         y = check_array(y, 'csr', force_all_finite=True, ensure_2d=False,\n",
      "\u001b[1;32mC:\\ProgramData\\Anaconda3\\lib\\site-packages\\sklearn\\utils\\validation.py\u001b[0m in \u001b[0;36mcheck_array\u001b[1;34m(array, accept_sparse, dtype, order, copy, force_all_finite, ensure_2d, allow_nd, ensure_min_samples, ensure_min_features, warn_on_dtype, estimator)\u001b[0m\n\u001b[0;32m    439\u001b[0m                     \u001b[1;34m\"Reshape your data either using array.reshape(-1, 1) if \"\u001b[0m\u001b[1;33m\u001b[0m\u001b[0m\n\u001b[0;32m    440\u001b[0m                     \u001b[1;34m\"your data has a single feature or array.reshape(1, -1) \"\u001b[0m\u001b[1;33m\u001b[0m\u001b[0m\n\u001b[1;32m--> 441\u001b[1;33m                     \"if it contains a single sample.\".format(array))\n\u001b[0m\u001b[0;32m    442\u001b[0m             \u001b[0marray\u001b[0m \u001b[1;33m=\u001b[0m \u001b[0mnp\u001b[0m\u001b[1;33m.\u001b[0m\u001b[0matleast_2d\u001b[0m\u001b[1;33m(\u001b[0m\u001b[0marray\u001b[0m\u001b[1;33m)\u001b[0m\u001b[1;33m\u001b[0m\u001b[0m\n\u001b[0;32m    443\u001b[0m             \u001b[1;31m# To ensure that array flags are maintained\u001b[0m\u001b[1;33m\u001b[0m\u001b[1;33m\u001b[0m\u001b[0m\n",
      "\u001b[1;31mValueError\u001b[0m: Expected 2D array, got 1D array instead:\narray=[9.95209271 6.03026546 4.50807604 6.47013246 5.67492342 5.88919709\n 0.51871717 3.98083318 1.71594291 6.79940465 6.49293829 4.76556196\n 6.21668725 9.40033589 6.30755882 6.110838   6.30755868 3.46355476\n 7.91190556 0.5246153  4.4017147  8.97238203 9.69429485 2.789956\n 6.15055697 2.09038957 5.70985205 9.4337167  8.79859588 1.34082353\n 0.2154501  2.8335883  4.76180381 9.48464094 3.64008979 4.80721914\n 2.12106073 7.10976425 4.17872509 8.69032763 3.26579699 4.47867686\n 3.5049652  8.97454729 8.92854437 7.81365985 4.53430079 2.1358364\n 9.74087965 8.43651673 1.24228013 7.73442191 0.54292399 6.63566651\n 1.91420639 9.22789441 7.58769433 2.57543659 1.32477281 5.63252846\n 1.36348518 2.4285697  8.66028247 1.89155388 5.95076123 4.28342506\n 0.94678341 8.27260797 9.56289561 1.98950591 9.96558089 6.27255765\n 4.99681115 0.63403651 6.30693304 8.0423662  3.61823372 2.33636507\n 9.05069689 6.91001406 3.72653475 9.15614538 9.86822005 2.01379767\n 3.89247614 1.25001373 2.3898169  6.23743865 0.77053894 9.05415504\n 7.74896694 0.10043743 0.14218314 3.9295094  0.60005637 3.38475149\n 2.45857853 8.66140331 1.35699732 5.11677304].\nReshape your data either using array.reshape(-1, 1) if your data has a single feature or array.reshape(1, -1) if it contains a single sample."
     ]
    }
   ],
   "source": [
    "model.fit(x,y)"
   ]
  },
  {
   "cell_type": "code",
   "execution_count": 22,
   "metadata": {},
   "outputs": [],
   "source": [
    "x = x.reshape(1,-1)"
   ]
  },
  {
   "cell_type": "code",
   "execution_count": 23,
   "metadata": {},
   "outputs": [
    {
     "data": {
      "text/plain": [
       "array([[9.95209271, 6.03026546, 4.50807604, 6.47013246, 5.67492342,\n",
       "        5.88919709, 0.51871717, 3.98083318, 1.71594291, 6.79940465,\n",
       "        6.49293829, 4.76556196, 6.21668725, 9.40033589, 6.30755882,\n",
       "        6.110838  , 6.30755868, 3.46355476, 7.91190556, 0.5246153 ,\n",
       "        4.4017147 , 8.97238203, 9.69429485, 2.789956  , 6.15055697,\n",
       "        2.09038957, 5.70985205, 9.4337167 , 8.79859588, 1.34082353,\n",
       "        0.2154501 , 2.8335883 , 4.76180381, 9.48464094, 3.64008979,\n",
       "        4.80721914, 2.12106073, 7.10976425, 4.17872509, 8.69032763,\n",
       "        3.26579699, 4.47867686, 3.5049652 , 8.97454729, 8.92854437,\n",
       "        7.81365985, 4.53430079, 2.1358364 , 9.74087965, 8.43651673,\n",
       "        1.24228013, 7.73442191, 0.54292399, 6.63566651, 1.91420639,\n",
       "        9.22789441, 7.58769433, 2.57543659, 1.32477281, 5.63252846,\n",
       "        1.36348518, 2.4285697 , 8.66028247, 1.89155388, 5.95076123,\n",
       "        4.28342506, 0.94678341, 8.27260797, 9.56289561, 1.98950591,\n",
       "        9.96558089, 6.27255765, 4.99681115, 0.63403651, 6.30693304,\n",
       "        8.0423662 , 3.61823372, 2.33636507, 9.05069689, 6.91001406,\n",
       "        3.72653475, 9.15614538, 9.86822005, 2.01379767, 3.89247614,\n",
       "        1.25001373, 2.3898169 , 6.23743865, 0.77053894, 9.05415504,\n",
       "        7.74896694, 0.10043743, 0.14218314, 3.9295094 , 0.60005637,\n",
       "        3.38475149, 2.45857853, 8.66140331, 1.35699732, 5.11677304]])"
      ]
     },
     "execution_count": 23,
     "metadata": {},
     "output_type": "execute_result"
    }
   ],
   "source": [
    "x"
   ]
  },
  {
   "cell_type": "code",
   "execution_count": 24,
   "metadata": {},
   "outputs": [
    {
     "data": {
      "text/plain": [
       "LinearRegression(copy_X=True, fit_intercept=True, n_jobs=1, normalize=False)"
      ]
     },
     "execution_count": 24,
     "metadata": {},
     "output_type": "execute_result"
    }
   ],
   "source": [
    "model.fit(x,y)"
   ]
  },
  {
   "cell_type": "code",
   "execution_count": 25,
   "metadata": {},
   "outputs": [
    {
     "data": {
      "text/plain": [
       "array([[0., 0., 0., ..., 0., 0., 0.],\n",
       "       [0., 0., 0., ..., 0., 0., 0.],\n",
       "       [0., 0., 0., ..., 0., 0., 0.],\n",
       "       ...,\n",
       "       [0., 0., 0., ..., 0., 0., 0.],\n",
       "       [0., 0., 0., ..., 0., 0., 0.],\n",
       "       [0., 0., 0., ..., 0., 0., 0.]])"
      ]
     },
     "execution_count": 25,
     "metadata": {},
     "output_type": "execute_result"
    }
   ],
   "source": [
    "model.coef_"
   ]
  },
  {
   "cell_type": "code",
   "execution_count": 27,
   "metadata": {},
   "outputs": [
    {
     "data": {
      "text/plain": [
       "array([30.52250545, 18.22847986, 14.27394512, 20.25130902, 17.61763874,\n",
       "       18.50514523,  2.29953124, 12.07708263,  5.39450277, 21.28530585,\n",
       "       20.13861466, 14.78416106, 18.99622103, 28.81376291, 19.03181152,\n",
       "       19.30822706, 19.75035733, 10.41135847, 24.64129588,  2.1416233 ,\n",
       "       13.44004463, 27.36170558, 29.42047078,  9.27718772, 18.68153225,\n",
       "        7.25719296, 17.87781939, 29.01664005, 27.1622878 ,  4.14930458,\n",
       "        1.06331293,  8.91476161, 14.64027954, 29.44236274, 11.12365145,\n",
       "       14.81123314,  7.05936768, 21.88054897, 12.83229722, 26.25403573,\n",
       "       10.55812628, 13.56885636, 10.85438158, 27.90782043, 26.83698885,\n",
       "       24.11112669, 13.62862826,  6.96345125, 29.34251874, 25.34479131,\n",
       "        4.22843316, 23.9406275 ,  2.19577345, 20.54538919,  6.44602943,\n",
       "       28.38794058, 23.00849645,  8.20091646,  4.76766694, 17.60720713,\n",
       "        4.12040374,  8.21226063, 26.90991912,  6.2120241 , 17.92001928,\n",
       "       13.76011097,  3.52747781, 24.87571823, 29.66062563,  6.23209846,\n",
       "       30.48132117, 19.48568075, 15.98907606,  2.1125443 , 19.0308138 ,\n",
       "       24.6659737 , 11.378084  ,  7.24021155, 27.35686439, 20.90139615,\n",
       "       11.31658729, 27.70478412, 30.26544661,  6.73650741, 12.25299729,\n",
       "        4.57539557,  7.41784634, 19.53118136,  2.62462822, 27.54703409,\n",
       "       24.06586837,  0.47236842,  1.38973818, 12.1381226 ,  2.44999565,\n",
       "       10.21339815,  7.45556987, 26.06075442,  4.18931303, 15.97997603])"
      ]
     },
     "execution_count": 27,
     "metadata": {},
     "output_type": "execute_result"
    }
   ],
   "source": [
    "model.intercept_"
   ]
  },
  {
   "cell_type": "code",
   "execution_count": 28,
   "metadata": {},
   "outputs": [],
   "source": [
    "x_fit = np.linspace(3,50)"
   ]
  },
  {
   "cell_type": "code",
   "execution_count": 29,
   "metadata": {},
   "outputs": [
    {
     "data": {
      "text/plain": [
       "array([ 3.        ,  3.95918367,  4.91836735,  5.87755102,  6.83673469,\n",
       "        7.79591837,  8.75510204,  9.71428571, 10.67346939, 11.63265306,\n",
       "       12.59183673, 13.55102041, 14.51020408, 15.46938776, 16.42857143,\n",
       "       17.3877551 , 18.34693878, 19.30612245, 20.26530612, 21.2244898 ,\n",
       "       22.18367347, 23.14285714, 24.10204082, 25.06122449, 26.02040816,\n",
       "       26.97959184, 27.93877551, 28.89795918, 29.85714286, 30.81632653,\n",
       "       31.7755102 , 32.73469388, 33.69387755, 34.65306122, 35.6122449 ,\n",
       "       36.57142857, 37.53061224, 38.48979592, 39.44897959, 40.40816327,\n",
       "       41.36734694, 42.32653061, 43.28571429, 44.24489796, 45.20408163,\n",
       "       46.16326531, 47.12244898, 48.08163265, 49.04081633, 50.        ])"
      ]
     },
     "execution_count": 29,
     "metadata": {},
     "output_type": "execute_result"
    }
   ],
   "source": [
    "x_fit"
   ]
  },
  {
   "cell_type": "code",
   "execution_count": 30,
   "metadata": {},
   "outputs": [],
   "source": [
    "x_fit = x_fit.reshape(1,-1)"
   ]
  },
  {
   "cell_type": "code",
   "execution_count": 31,
   "metadata": {},
   "outputs": [
    {
     "ename": "ValueError",
     "evalue": "shapes (1,50) and (100,100) not aligned: 50 (dim 1) != 100 (dim 0)",
     "output_type": "error",
     "traceback": [
      "\u001b[1;31m---------------------------------------------------------------------------\u001b[0m",
      "\u001b[1;31mValueError\u001b[0m                                Traceback (most recent call last)",
      "\u001b[1;32m<ipython-input-31-725624217e68>\u001b[0m in \u001b[0;36m<module>\u001b[1;34m()\u001b[0m\n\u001b[1;32m----> 1\u001b[1;33m \u001b[0my_fit\u001b[0m \u001b[1;33m=\u001b[0m \u001b[0mmodel\u001b[0m\u001b[1;33m.\u001b[0m\u001b[0mpredict\u001b[0m\u001b[1;33m(\u001b[0m\u001b[0mx_fit\u001b[0m\u001b[1;33m)\u001b[0m\u001b[1;33m\u001b[0m\u001b[0m\n\u001b[0m",
      "\u001b[1;32mC:\\ProgramData\\Anaconda3\\lib\\site-packages\\sklearn\\linear_model\\base.py\u001b[0m in \u001b[0;36mpredict\u001b[1;34m(self, X)\u001b[0m\n\u001b[0;32m    254\u001b[0m             \u001b[0mReturns\u001b[0m \u001b[0mpredicted\u001b[0m \u001b[0mvalues\u001b[0m\u001b[1;33m.\u001b[0m\u001b[1;33m\u001b[0m\u001b[0m\n\u001b[0;32m    255\u001b[0m         \"\"\"\n\u001b[1;32m--> 256\u001b[1;33m         \u001b[1;32mreturn\u001b[0m \u001b[0mself\u001b[0m\u001b[1;33m.\u001b[0m\u001b[0m_decision_function\u001b[0m\u001b[1;33m(\u001b[0m\u001b[0mX\u001b[0m\u001b[1;33m)\u001b[0m\u001b[1;33m\u001b[0m\u001b[0m\n\u001b[0m\u001b[0;32m    257\u001b[0m \u001b[1;33m\u001b[0m\u001b[0m\n\u001b[0;32m    258\u001b[0m     \u001b[0m_preprocess_data\u001b[0m \u001b[1;33m=\u001b[0m \u001b[0mstaticmethod\u001b[0m\u001b[1;33m(\u001b[0m\u001b[0m_preprocess_data\u001b[0m\u001b[1;33m)\u001b[0m\u001b[1;33m\u001b[0m\u001b[0m\n",
      "\u001b[1;32mC:\\ProgramData\\Anaconda3\\lib\\site-packages\\sklearn\\linear_model\\base.py\u001b[0m in \u001b[0;36m_decision_function\u001b[1;34m(self, X)\u001b[0m\n\u001b[0;32m    239\u001b[0m         \u001b[0mX\u001b[0m \u001b[1;33m=\u001b[0m \u001b[0mcheck_array\u001b[0m\u001b[1;33m(\u001b[0m\u001b[0mX\u001b[0m\u001b[1;33m,\u001b[0m \u001b[0maccept_sparse\u001b[0m\u001b[1;33m=\u001b[0m\u001b[1;33m[\u001b[0m\u001b[1;34m'csr'\u001b[0m\u001b[1;33m,\u001b[0m \u001b[1;34m'csc'\u001b[0m\u001b[1;33m,\u001b[0m \u001b[1;34m'coo'\u001b[0m\u001b[1;33m]\u001b[0m\u001b[1;33m)\u001b[0m\u001b[1;33m\u001b[0m\u001b[0m\n\u001b[0;32m    240\u001b[0m         return safe_sparse_dot(X, self.coef_.T,\n\u001b[1;32m--> 241\u001b[1;33m                                dense_output=True) + self.intercept_\n\u001b[0m\u001b[0;32m    242\u001b[0m \u001b[1;33m\u001b[0m\u001b[0m\n\u001b[0;32m    243\u001b[0m     \u001b[1;32mdef\u001b[0m \u001b[0mpredict\u001b[0m\u001b[1;33m(\u001b[0m\u001b[0mself\u001b[0m\u001b[1;33m,\u001b[0m \u001b[0mX\u001b[0m\u001b[1;33m)\u001b[0m\u001b[1;33m:\u001b[0m\u001b[1;33m\u001b[0m\u001b[0m\n",
      "\u001b[1;32mC:\\ProgramData\\Anaconda3\\lib\\site-packages\\sklearn\\utils\\extmath.py\u001b[0m in \u001b[0;36msafe_sparse_dot\u001b[1;34m(a, b, dense_output)\u001b[0m\n\u001b[0;32m    138\u001b[0m         \u001b[1;32mreturn\u001b[0m \u001b[0mret\u001b[0m\u001b[1;33m\u001b[0m\u001b[0m\n\u001b[0;32m    139\u001b[0m     \u001b[1;32melse\u001b[0m\u001b[1;33m:\u001b[0m\u001b[1;33m\u001b[0m\u001b[0m\n\u001b[1;32m--> 140\u001b[1;33m         \u001b[1;32mreturn\u001b[0m \u001b[0mnp\u001b[0m\u001b[1;33m.\u001b[0m\u001b[0mdot\u001b[0m\u001b[1;33m(\u001b[0m\u001b[0ma\u001b[0m\u001b[1;33m,\u001b[0m \u001b[0mb\u001b[0m\u001b[1;33m)\u001b[0m\u001b[1;33m\u001b[0m\u001b[0m\n\u001b[0m\u001b[0;32m    141\u001b[0m \u001b[1;33m\u001b[0m\u001b[0m\n\u001b[0;32m    142\u001b[0m \u001b[1;33m\u001b[0m\u001b[0m\n",
      "\u001b[1;31mValueError\u001b[0m: shapes (1,50) and (100,100) not aligned: 50 (dim 1) != 100 (dim 0)"
     ]
    }
   ],
   "source": [
    "y_fit = model.predict(x_fit)"
   ]
  },
  {
   "cell_type": "code",
   "execution_count": 32,
   "metadata": {},
   "outputs": [],
   "source": [
    "x = x.reshape(-1,1)"
   ]
  },
  {
   "cell_type": "code",
   "execution_count": 33,
   "metadata": {},
   "outputs": [
    {
     "data": {
      "text/plain": [
       "(100, 1)"
      ]
     },
     "execution_count": 33,
     "metadata": {},
     "output_type": "execute_result"
    }
   ],
   "source": [
    "x.shape"
   ]
  },
  {
   "cell_type": "code",
   "execution_count": 34,
   "metadata": {},
   "outputs": [
    {
     "data": {
      "text/plain": [
       "(1, 100)"
      ]
     },
     "execution_count": 34,
     "metadata": {},
     "output_type": "execute_result"
    }
   ],
   "source": [
    "y.shape"
   ]
  },
  {
   "cell_type": "code",
   "execution_count": 35,
   "metadata": {},
   "outputs": [
    {
     "data": {
      "text/plain": [
       "array([30.52250545, 18.22847986, 14.27394512, 20.25130902, 17.61763874,\n",
       "       18.50514523,  2.29953124, 12.07708263,  5.39450277, 21.28530585,\n",
       "       20.13861466, 14.78416106, 18.99622103, 28.81376291, 19.03181152,\n",
       "       19.30822706, 19.75035733, 10.41135847, 24.64129588,  2.1416233 ,\n",
       "       13.44004463, 27.36170558, 29.42047078,  9.27718772, 18.68153225,\n",
       "        7.25719296, 17.87781939, 29.01664005, 27.1622878 ,  4.14930458,\n",
       "        1.06331293,  8.91476161, 14.64027954, 29.44236274, 11.12365145,\n",
       "       14.81123314,  7.05936768, 21.88054897, 12.83229722, 26.25403573,\n",
       "       10.55812628, 13.56885636, 10.85438158, 27.90782043, 26.83698885,\n",
       "       24.11112669, 13.62862826,  6.96345125, 29.34251874, 25.34479131,\n",
       "        4.22843316, 23.9406275 ,  2.19577345, 20.54538919,  6.44602943,\n",
       "       28.38794058, 23.00849645,  8.20091646,  4.76766694, 17.60720713,\n",
       "        4.12040374,  8.21226063, 26.90991912,  6.2120241 , 17.92001928,\n",
       "       13.76011097,  3.52747781, 24.87571823, 29.66062563,  6.23209846,\n",
       "       30.48132117, 19.48568075, 15.98907606,  2.1125443 , 19.0308138 ,\n",
       "       24.6659737 , 11.378084  ,  7.24021155, 27.35686439, 20.90139615,\n",
       "       11.31658729, 27.70478412, 30.26544661,  6.73650741, 12.25299729,\n",
       "        4.57539557,  7.41784634, 19.53118136,  2.62462822, 27.54703409,\n",
       "       24.06586837,  0.47236842,  1.38973818, 12.1381226 ,  2.44999565,\n",
       "       10.21339815,  7.45556987, 26.06075442,  4.18931303, 15.97997603])"
      ]
     },
     "execution_count": 35,
     "metadata": {},
     "output_type": "execute_result"
    }
   ],
   "source": [
    "y.reshape(100,)"
   ]
  },
  {
   "cell_type": "code",
   "execution_count": 36,
   "metadata": {},
   "outputs": [],
   "source": [
    "y = y.reshape(100,)"
   ]
  },
  {
   "cell_type": "code",
   "execution_count": 37,
   "metadata": {},
   "outputs": [
    {
     "data": {
      "text/plain": [
       "(100,)"
      ]
     },
     "execution_count": 37,
     "metadata": {},
     "output_type": "execute_result"
    }
   ],
   "source": [
    "y.shape"
   ]
  },
  {
   "cell_type": "code",
   "execution_count": 38,
   "metadata": {},
   "outputs": [
    {
     "data": {
      "text/plain": [
       "LinearRegression(copy_X=True, fit_intercept=True, n_jobs=1, normalize=False)"
      ]
     },
     "execution_count": 38,
     "metadata": {},
     "output_type": "execute_result"
    }
   ],
   "source": [
    "model.fit(x,y)"
   ]
  },
  {
   "cell_type": "code",
   "execution_count": 39,
   "metadata": {},
   "outputs": [
    {
     "data": {
      "text/plain": [
       "array([3.00719971])"
      ]
     },
     "execution_count": 39,
     "metadata": {},
     "output_type": "execute_result"
    }
   ],
   "source": [
    "model.coef_"
   ]
  },
  {
   "cell_type": "code",
   "execution_count": 41,
   "metadata": {},
   "outputs": [
    {
     "data": {
      "text/plain": [
       "array([[ 3.        ,  3.95918367,  4.91836735,  5.87755102,  6.83673469,\n",
       "         7.79591837,  8.75510204,  9.71428571, 10.67346939, 11.63265306,\n",
       "        12.59183673, 13.55102041, 14.51020408, 15.46938776, 16.42857143,\n",
       "        17.3877551 , 18.34693878, 19.30612245, 20.26530612, 21.2244898 ,\n",
       "        22.18367347, 23.14285714, 24.10204082, 25.06122449, 26.02040816,\n",
       "        26.97959184, 27.93877551, 28.89795918, 29.85714286, 30.81632653,\n",
       "        31.7755102 , 32.73469388, 33.69387755, 34.65306122, 35.6122449 ,\n",
       "        36.57142857, 37.53061224, 38.48979592, 39.44897959, 40.40816327,\n",
       "        41.36734694, 42.32653061, 43.28571429, 44.24489796, 45.20408163,\n",
       "        46.16326531, 47.12244898, 48.08163265, 49.04081633, 50.        ]])"
      ]
     },
     "execution_count": 41,
     "metadata": {},
     "output_type": "execute_result"
    }
   ],
   "source": [
    "x_fit"
   ]
  },
  {
   "cell_type": "code",
   "execution_count": 42,
   "metadata": {},
   "outputs": [
    {
     "data": {
      "text/plain": [
       "(1, 50)"
      ]
     },
     "execution_count": 42,
     "metadata": {},
     "output_type": "execute_result"
    }
   ],
   "source": [
    "x_fit.shape"
   ]
  },
  {
   "cell_type": "code",
   "execution_count": 43,
   "metadata": {},
   "outputs": [],
   "source": [
    "x_fit = x_fit.reshape(-1,1)"
   ]
  },
  {
   "cell_type": "code",
   "execution_count": 44,
   "metadata": {},
   "outputs": [
    {
     "data": {
      "text/plain": [
       "(50, 1)"
      ]
     },
     "execution_count": 44,
     "metadata": {},
     "output_type": "execute_result"
    }
   ],
   "source": [
    "x_fit.shape"
   ]
  },
  {
   "cell_type": "code",
   "execution_count": 45,
   "metadata": {},
   "outputs": [],
   "source": [
    "y_fit = model.predict(x_fit)"
   ]
  },
  {
   "cell_type": "code",
   "execution_count": 46,
   "metadata": {},
   "outputs": [
    {
     "data": {
      "text/plain": [
       "array([  9.48028132,  12.36473819,  15.24919505,  18.13365192,\n",
       "        21.01810878,  23.90256565,  26.78702251,  29.67147938,\n",
       "        32.55593624,  35.44039311,  38.32484997,  41.20930684,\n",
       "        44.0937637 ,  46.97822057,  49.86267743,  52.7471343 ,\n",
       "        55.63159116,  58.51604803,  61.40050489,  64.28496176,\n",
       "        67.16941862,  70.05387549,  72.93833235,  75.82278922,\n",
       "        78.70724608,  81.59170295,  84.47615981,  87.36061668,\n",
       "        90.24507354,  93.12953041,  96.01398727,  98.89844414,\n",
       "       101.782901  , 104.66735787, 107.55181473, 110.4362716 ,\n",
       "       113.32072846, 116.20518533, 119.08964219, 121.97409906,\n",
       "       124.85855592, 127.74301279, 130.62746965, 133.51192652,\n",
       "       136.39638338, 139.28084025, 142.16529711, 145.04975397,\n",
       "       147.93421084, 150.8186677 ])"
      ]
     },
     "execution_count": 46,
     "metadata": {},
     "output_type": "execute_result"
    }
   ],
   "source": [
    "y_fit"
   ]
  },
  {
   "cell_type": "code",
   "execution_count": 47,
   "metadata": {},
   "outputs": [
    {
     "data": {
      "text/plain": [
       "[<matplotlib.lines.Line2D at 0x53ecc88>]"
      ]
     },
     "execution_count": 47,
     "metadata": {},
     "output_type": "execute_result"
    },
    {
     "data": {
      "image/png": "[encoded data removed]",
      "text/plain": [
       "<Figure size 432x288 with 1 Axes>"
      ]
     },
     "metadata": {},
     "output_type": "display_data"
    }
   ],
   "source": [
    "plt.plot(x_fit,y_fit)"
   ]
  },
  {
   "cell_type": "code",
   "execution_count": 48,
   "metadata": {},
   "outputs": [
    {
     "data": {
      "text/plain": [
       "<matplotlib.collections.PathCollection at 0x5442e48>"
      ]
     },
     "execution_count": 48,
     "metadata": {},
     "output_type": "execute_result"
    },
    {
     "data": {
      "image/png": "[encoded data removed]",
      "text/plain": [
       "<Figure size 432x288 with 1 Axes>"
      ]
     },
     "metadata": {},
     "output_type": "display_data"
    }
   ],
   "source": [
    "plt.scatter(x_fit,y_fit)"
   ]
  },
  {
   "cell_type": "code",
   "execution_count": 49,
   "metadata": {},
   "outputs": [
    {
     "data": {
      "text/plain": [
       "array([3.00719971])"
      ]
     },
     "execution_count": 49,
     "metadata": {},
     "output_type": "execute_result"
    }
   ],
   "source": [
    "model.coef_"
   ]
  },
  {
   "cell_type": "code",
   "execution_count": 50,
   "metadata": {},
   "outputs": [
    {
     "ename": "SyntaxError",
     "evalue": "invalid syntax (<ipython-input-50-6f7c96193053>, line 1)",
     "output_type": "error",
     "traceback": [
      "\u001b[1;36m  File \u001b[1;32m\"<ipython-input-50-6f7c96193053>\"\u001b[1;36m, line \u001b[1;32m1\u001b[0m\n\u001b[1;33m    model.fit()?\u001b[0m\n\u001b[1;37m               ^\u001b[0m\n\u001b[1;31mSyntaxError\u001b[0m\u001b[1;31m:\u001b[0m invalid syntax\n"
     ]
    }
   ],
   "source": [
    "model.fit()?"
   ]
  },
  {
   "cell_type": "code",
   "execution_count": 51,
   "metadata": {},
   "outputs": [],
   "source": [
    "model.fit?"
   ]
  },
  {
   "cell_type": "code",
   "execution_count": null,
   "metadata": {},
   "outputs": [],
   "source": []
  }
 ],
 "metadata": {
  "kernelspec": {
   "display_name": "Python 3",
   "language": "python",
   "name": "python3"
  },
  "language_info": {
   "codemirror_mode": {
    "name": "ipython",
    "version": 3
   },
   "file_extension": ".py",
   "mimetype": "text/x-python",
   "name": "python",
   "nbconvert_exporter": "python",
   "pygments_lexer": "ipython3",
   "version": "3.6.5"
  }
 },
 "nbformat": 4,
 "nbformat_minor": 2
}
